{
 "cells": [
  {
   "cell_type": "markdown",
   "metadata": {},
   "source": [
    "# Парсинг данных с карт"
   ]
  },
  {
   "cell_type": "markdown",
   "metadata": {},
   "source": [
    "## Задача"
   ]
  },
  {
   "cell_type": "markdown",
   "metadata": {},
   "source": [
    "В распоряжении есть датасет с адресами в Москве. На основе этих данных необходимо получить район и улицу"
   ]
  },
  {
   "cell_type": "markdown",
   "metadata": {},
   "source": [
    "## Решение"
   ]
  },
  {
   "cell_type": "markdown",
   "metadata": {},
   "source": [
    "### Подготовка"
   ]
  },
  {
   "cell_type": "markdown",
   "metadata": {},
   "source": [
    "Импортируем библиотеки, с которыми будем работать"
   ]
  },
  {
   "cell_type": "code",
   "execution_count": 1,
   "metadata": {},
   "outputs": [],
   "source": [
    "import pandas as pd\n",
    "from yaml import load, FullLoader\n",
    "import requests as req\n",
    "import time"
   ]
  },
  {
   "cell_type": "markdown",
   "metadata": {},
   "source": [
    "Считаем данные с адресами"
   ]
  },
  {
   "cell_type": "code",
   "execution_count": 2,
   "metadata": {},
   "outputs": [],
   "source": [
    "path = 'datasets/'\n",
    "file_name = 'rest_data.csv'\n",
    "\n",
    "data = pd.read_csv(path + file_name)"
   ]
  },
  {
   "cell_type": "markdown",
   "metadata": {},
   "source": [
    "Адреса в датасете имеют следующий вид"
   ]
  },
  {
   "cell_type": "code",
   "execution_count": 3,
   "metadata": {},
   "outputs": [
    {
     "data": {
      "text/plain": [
       "2566               город Москва, улица Тёплый Стан, дом 1А\n",
       "10396              город Москва, Онежская улица, дом 19/38\n",
       "8260     город Москва, Верхняя Красносельская улица, до...\n",
       "1031     город Москва, Садовая-Черногрязская улица, дом...\n",
       "8679                 город Москва, Ярцевская улица, дом 19\n",
       "Name: address, dtype: object"
      ]
     },
     "execution_count": 3,
     "metadata": {},
     "output_type": "execute_result"
    }
   ],
   "source": [
    "data['address'].sample(5)"
   ]
  },
  {
   "cell_type": "markdown",
   "metadata": {},
   "source": [
    "Уникальное кол-во адресов"
   ]
  },
  {
   "cell_type": "code",
   "execution_count": 4,
   "metadata": {},
   "outputs": [
    {
     "data": {
      "text/plain": [
       "9108"
      ]
     },
     "execution_count": 4,
     "metadata": {},
     "output_type": "execute_result"
    }
   ],
   "source": [
    "len(data['address'].unique())"
   ]
  },
  {
   "cell_type": "markdown",
   "metadata": {},
   "source": [
    "Сохраним уникальные адреса в отдельный список"
   ]
  },
  {
   "cell_type": "code",
   "execution_count": 5,
   "metadata": {},
   "outputs": [],
   "source": [
    "unique_adress = data['address'].unique().tolist()"
   ]
  },
  {
   "cell_type": "markdown",
   "metadata": {},
   "source": [
    "### Решение задачи"
   ]
  },
  {
   "cell_type": "markdown",
   "metadata": {},
   "source": [
    "Выполнить поставленную задачу можно разными путями. В этой работе я буду получать необходимые мне данные об адресе с помощью API <a href='https://tech.yandex.ru/maps/geocoder/?from=mapsapi' alt='Геокодер'>Геокодера</a> Яндекс.Карт. Для взаимодействия с сервисом необходимо зарегистрироваться и получить токен"
   ]
  },
  {
   "cell_type": "code",
   "execution_count": 6,
   "metadata": {},
   "outputs": [],
   "source": [
    "config = load(open('config.yaml'), Loader=FullLoader)\n",
    "token = config['yandex_maps_geocoder']['token']"
   ]
  },
  {
   "cell_type": "markdown",
   "metadata": {},
   "source": [
    "Про формат запросов к API более подробно можно почитать <a href='https://tech.yandex.ru/maps/geocoder/doc/desc/concepts/input_params-docpage/' alt='Формат запросов к Геокодеру'>тут</a>. Сформируем ф-ию для отправки запросов <code>make_safe_request</code>"
   ]
  },
  {
   "cell_type": "code",
   "execution_count": 7,
   "metadata": {},
   "outputs": [],
   "source": [
    "api_url = 'https://geocode-maps.yandex.ru/1.x'"
   ]
  },
  {
   "cell_type": "code",
   "execution_count": 8,
   "metadata": {},
   "outputs": [],
   "source": [
    "# a simple request\n",
    "def make_request(geocode):\n",
    "    params = {\n",
    "        'geocode':geocode,\n",
    "        'format':'json',\n",
    "        'apikey':token\n",
    "    }\n",
    "    \n",
    "    response = req.get(api_url, params=params)\n",
    "    return response\n",
    "\n",
    "# requests with delay\n",
    "def make_safe_request(geocode):\n",
    "    response = []\n",
    "    \n",
    "    for n in range(3):\n",
    "        try:\n",
    "            response = make_request(geocode)\n",
    "            break\n",
    "        except:\n",
    "            print('Error, wait {} seconds'.format(2**(n+1)))\n",
    "            time.sleep(2**(n+1))\n",
    "            \n",
    "    return response"
   ]
  },
  {
   "cell_type": "markdown",
   "metadata": {},
   "source": [
    "Алгоритм получения данных будет следующий:\n",
    "\n",
    "1. Первым запросом необходимо получить координаты адреса, находящегося в <code>unique_adress</code>\n",
    "2. Вторым запросом необходимо получить всю интересующую информацию по адресу с помощью координат, полученных на 1ом шаге\n",
    "\n",
    "Такой формат сбора данных позволяет получить весь существующий набор данных об адресе, в т.ч. - район. Определим ф-ию получения координат"
   ]
  },
  {
   "cell_type": "code",
   "execution_count": 9,
   "metadata": {},
   "outputs": [],
   "source": [
    "# for each address determines coordinates\n",
    "def get_coordinates(address):\n",
    "    result = []\n",
    "    \n",
    "    for geocode in address:\n",
    "        response = make_safe_request(geocode)\n",
    "        \n",
    "        if response:\n",
    "            response = response.json()\n",
    "            \n",
    "            try:\n",
    "                coordinates = response['response']['GeoObjectCollection']\\\n",
    "                        ['featureMember'][0]['GeoObject']['Point']['pos']\n",
    "\n",
    "                result.append([geocode, coordinates])\n",
    "            except:\n",
    "                result.append([geocode, 'Not_detected'])\n",
    "        else:\n",
    "            result.append([geocode, 'Not_detected'])\n",
    "            \n",
    "    return result"
   ]
  },
  {
   "cell_type": "markdown",
   "metadata": {},
   "source": [
    "Получим координаты для адресов"
   ]
  },
  {
   "cell_type": "code",
   "execution_count": 10,
   "metadata": {},
   "outputs": [],
   "source": [
    "coordinates = get_coordinates(unique_adress)"
   ]
  },
  {
   "cell_type": "code",
   "execution_count": 11,
   "metadata": {},
   "outputs": [
    {
     "data": {
      "text/plain": [
       "['город Москва, улица Егора Абакумова, дом 9', '37.714474 55.879005']"
      ]
     },
     "execution_count": 11,
     "metadata": {},
     "output_type": "execute_result"
    }
   ],
   "source": [
    "# Example of getting coordinates\n",
    "coordinates[0]"
   ]
  },
  {
   "cell_type": "markdown",
   "metadata": {},
   "source": [
    "Определим ф-ию <code>get_coordinates_info</code>, которая будет получать интересующие данные по координатам"
   ]
  },
  {
   "cell_type": "code",
   "execution_count": 12,
   "metadata": {},
   "outputs": [],
   "source": [
    "# for each coordinates gets requried information\n",
    "def get_coordinates_info(coordinates):\n",
    "    result = []\n",
    "    \n",
    "    for geocode in coordinates:\n",
    "        # change geocode format to \"X,Y\"\n",
    "        response = make_safe_request(','.join(geocode.split()))\n",
    "        \n",
    "        if response:\n",
    "            response = response.json()\n",
    "            \n",
    "            try:\n",
    "                # 0 means 'precision': 'exact'\n",
    "                address_det = response['response']['GeoObjectCollection']\\\n",
    "                        ['featureMember'][0]['GeoObject']\\\n",
    "                        ['metaDataProperty']['GeocoderMetaData']\\\n",
    "                        ['Address']['formatted']\n",
    "\n",
    "                \n",
    "                street = []\n",
    "\n",
    "                # 1 means 'precision': 'street'\n",
    "                for el in response['response']['GeoObjectCollection']\\\n",
    "                        ['featureMember'][1]['GeoObject']\\\n",
    "                        ['metaDataProperty']['GeocoderMetaData']\\\n",
    "                        ['Address']['Components']:\n",
    "\n",
    "                    if el['kind'] == 'street':\n",
    "                        street.append(el['name'])\n",
    "                        \n",
    "\n",
    "                district = []\n",
    "\n",
    "                # 2 means 'precision': 'district'\n",
    "                for el in response['response']['GeoObjectCollection']\\\n",
    "                        ['featureMember'][2]['GeoObject']\\\n",
    "                        ['metaDataProperty']['GeocoderMetaData']\\\n",
    "                        ['Address']['Components']:\n",
    "\n",
    "                    if el['kind'] == 'district':\n",
    "                        district.append(el['name'])\n",
    "                \n",
    "            \n",
    "                result.append([geocode, address_det, street, district])\n",
    "            except:\n",
    "                result.append([geocode, 'Not_detected', 'Not_detected', 'Not_detected'])\n",
    "        else:\n",
    "            result.append([geocode, 'Not_detected', 'Not_detected', 'Not_detected'])\n",
    "    \n",
    "    return result"
   ]
  },
  {
   "cell_type": "markdown",
   "metadata": {},
   "source": [
    "Не все координаты в результате 1ого шага могли быть получены. Выберем только уникальные значения (на всякий случай) и выбросим <code>'Not_detected'</code>"
   ]
  },
  {
   "cell_type": "code",
   "execution_count": 13,
   "metadata": {},
   "outputs": [],
   "source": [
    "unique_coordinates = list(set([el[1] for el in coordinates]))\n",
    "\n",
    "if 'Not_detected' in unique_coordinates:\n",
    "    unique_coordinates.remove('Not_detected')"
   ]
  },
  {
   "cell_type": "code",
   "execution_count": 14,
   "metadata": {},
   "outputs": [
    {
     "data": {
      "text/plain": [
       "'37.549264 55.745924'"
      ]
     },
     "execution_count": 14,
     "metadata": {},
     "output_type": "execute_result"
    }
   ],
   "source": [
    "# Example of getting unique coordinates\n",
    "unique_coordinates[0]"
   ]
  },
  {
   "cell_type": "markdown",
   "metadata": {},
   "source": [
    "Наконец получим информацию по тем координатам, которые получили в 1ом шаге"
   ]
  },
  {
   "cell_type": "code",
   "execution_count": 16,
   "metadata": {},
   "outputs": [],
   "source": [
    "coordinates_info = get_coordinates_info(unique_coordinates)"
   ]
  },
  {
   "cell_type": "code",
   "execution_count": 17,
   "metadata": {},
   "outputs": [
    {
     "data": {
      "text/plain": [
       "['37.549264 55.745924',\n",
       " 'Россия, Москва, Кутузовский проспект, 22',\n",
       " ['Кутузовский проспект'],\n",
       " ['Западный административный округ', 'район Дорогомилово']]"
      ]
     },
     "execution_count": 17,
     "metadata": {},
     "output_type": "execute_result"
    }
   ],
   "source": [
    "# Example of getting info by coordinates\n",
    "coordinates_info[0]"
   ]
  },
  {
   "cell_type": "markdown",
   "metadata": {},
   "source": [
    "Создадим датафреймы <code>coordinates_df</code> и <code>coordinates_info_df</code> и добавим в них информацию из соответствующих списков"
   ]
  },
  {
   "cell_type": "code",
   "execution_count": 100,
   "metadata": {},
   "outputs": [],
   "source": [
    "coordinates_df = pd.DataFrame(coordinates, columns=['address', 'coordinates'])"
   ]
  },
  {
   "cell_type": "code",
   "execution_count": 101,
   "metadata": {},
   "outputs": [],
   "source": [
    "coordinates_info_df = pd.DataFrame(\n",
    "    coordinates_info,\n",
    "    columns=['coordinates', 'address_det', 'street', 'district']\n",
    ")"
   ]
  },
  {
   "cell_type": "markdown",
   "metadata": {},
   "source": [
    "Объединим датафреймы по <code>coordinates</code> в <code>address_info</code>"
   ]
  },
  {
   "cell_type": "code",
   "execution_count": 102,
   "metadata": {},
   "outputs": [],
   "source": [
    "address_info = coordinates_df.merge(coordinates_info_df, on='coordinates', how='left')"
   ]
  },
  {
   "cell_type": "code",
   "execution_count": 103,
   "metadata": {},
   "outputs": [
    {
     "data": {
      "text/html": [
       "<div>\n",
       "<style scoped>\n",
       "    .dataframe tbody tr th:only-of-type {\n",
       "        vertical-align: middle;\n",
       "    }\n",
       "\n",
       "    .dataframe tbody tr th {\n",
       "        vertical-align: top;\n",
       "    }\n",
       "\n",
       "    .dataframe thead th {\n",
       "        text-align: right;\n",
       "    }\n",
       "</style>\n",
       "<table border=\"1\" class=\"dataframe\">\n",
       "  <thead>\n",
       "    <tr style=\"text-align: right;\">\n",
       "      <th></th>\n",
       "      <th>address</th>\n",
       "      <th>coordinates</th>\n",
       "      <th>address_det</th>\n",
       "      <th>street</th>\n",
       "      <th>district</th>\n",
       "    </tr>\n",
       "  </thead>\n",
       "  <tbody>\n",
       "    <tr>\n",
       "      <th>0</th>\n",
       "      <td>город Москва, улица Егора Абакумова, дом 9</td>\n",
       "      <td>37.714474 55.879005</td>\n",
       "      <td>Россия, Москва, улица Егора Абакумова, 9</td>\n",
       "      <td>[улица Егора Абакумова]</td>\n",
       "      <td>[Северо-Восточный административный округ, Ярос...</td>\n",
       "    </tr>\n",
       "    <tr>\n",
       "      <th>1</th>\n",
       "      <td>город Москва, улица Талалихина, дом 2/1, корпус 1</td>\n",
       "      <td>37.673295 55.738307</td>\n",
       "      <td>Россия, Москва, улица Талалихина, 2/1к1</td>\n",
       "      <td>[улица Талалихина]</td>\n",
       "      <td>[Центральный административный округ, Таганский...</td>\n",
       "    </tr>\n",
       "    <tr>\n",
       "      <th>2</th>\n",
       "      <td>город Москва, Абельмановская улица, дом 6</td>\n",
       "      <td>37.669576 55.735571</td>\n",
       "      <td>Россия, Москва, Абельмановская улица, 6</td>\n",
       "      <td>[Абельмановская улица]</td>\n",
       "      <td>[Центральный административный округ, Таганский...</td>\n",
       "    </tr>\n",
       "    <tr>\n",
       "      <th>3</th>\n",
       "      <td>город Москва, Абрамцевская улица, дом 1</td>\n",
       "      <td>37.573007 55.892713</td>\n",
       "      <td>Россия, Москва, Абрамцевская улица, 1</td>\n",
       "      <td>[Абрамцевская улица]</td>\n",
       "      <td>[Северо-Восточный административный округ, райо...</td>\n",
       "    </tr>\n",
       "    <tr>\n",
       "      <th>4</th>\n",
       "      <td>город Москва, Абрамцевская улица, дом 9, корпус 1</td>\n",
       "      <td>37.572279 55.904074</td>\n",
       "      <td>Россия, Москва, Абрамцевская улица, 9к1</td>\n",
       "      <td>[Абрамцевская улица]</td>\n",
       "      <td>[Северо-Восточный административный округ, райо...</td>\n",
       "    </tr>\n",
       "  </tbody>\n",
       "</table>\n",
       "</div>"
      ],
      "text/plain": [
       "                                             address          coordinates  \\\n",
       "0         город Москва, улица Егора Абакумова, дом 9  37.714474 55.879005   \n",
       "1  город Москва, улица Талалихина, дом 2/1, корпус 1  37.673295 55.738307   \n",
       "2          город Москва, Абельмановская улица, дом 6  37.669576 55.735571   \n",
       "3            город Москва, Абрамцевская улица, дом 1  37.573007 55.892713   \n",
       "4  город Москва, Абрамцевская улица, дом 9, корпус 1  37.572279 55.904074   \n",
       "\n",
       "                                address_det                   street  \\\n",
       "0  Россия, Москва, улица Егора Абакумова, 9  [улица Егора Абакумова]   \n",
       "1   Россия, Москва, улица Талалихина, 2/1к1       [улица Талалихина]   \n",
       "2   Россия, Москва, Абельмановская улица, 6   [Абельмановская улица]   \n",
       "3     Россия, Москва, Абрамцевская улица, 1     [Абрамцевская улица]   \n",
       "4   Россия, Москва, Абрамцевская улица, 9к1     [Абрамцевская улица]   \n",
       "\n",
       "                                            district  \n",
       "0  [Северо-Восточный административный округ, Ярос...  \n",
       "1  [Центральный административный округ, Таганский...  \n",
       "2  [Центральный административный округ, Таганский...  \n",
       "3  [Северо-Восточный административный округ, райо...  \n",
       "4  [Северо-Восточный административный округ, райо...  "
      ]
     },
     "execution_count": 103,
     "metadata": {},
     "output_type": "execute_result"
    }
   ],
   "source": [
    "address_info.head()"
   ]
  },
  {
   "cell_type": "code",
   "execution_count": 104,
   "metadata": {},
   "outputs": [
    {
     "name": "stdout",
     "output_type": "stream",
     "text": [
      "<class 'pandas.core.frame.DataFrame'>\n",
      "Int64Index: 9108 entries, 0 to 9107\n",
      "Data columns (total 5 columns):\n",
      " #   Column       Non-Null Count  Dtype \n",
      "---  ------       --------------  ----- \n",
      " 0   address      9108 non-null   object\n",
      " 1   coordinates  9108 non-null   object\n",
      " 2   address_det  9083 non-null   object\n",
      " 3   street       9083 non-null   object\n",
      " 4   district     9083 non-null   object\n",
      "dtypes: object(5)\n",
      "memory usage: 426.9+ KB\n"
     ]
    }
   ],
   "source": [
    "address_info.info()"
   ]
  },
  {
   "cell_type": "markdown",
   "metadata": {},
   "source": [
    "### Доработка результатов"
   ]
  },
  {
   "cell_type": "markdown",
   "metadata": {},
   "source": [
    "В результате предыдущих шагов были получены данные по интересующим нас адресам. Однако не для всех адресов координаты были определены:"
   ]
  },
  {
   "cell_type": "code",
   "execution_count": 105,
   "metadata": {},
   "outputs": [
    {
     "data": {
      "text/plain": [
       "25"
      ]
     },
     "execution_count": 105,
     "metadata": {},
     "output_type": "execute_result"
    }
   ],
   "source": [
    "address_info[address_info['coordinates'] == 'Not_detected']['coordinates'].count()"
   ]
  },
  {
   "cell_type": "code",
   "execution_count": 106,
   "metadata": {},
   "outputs": [
    {
     "data": {
      "text/html": [
       "<div>\n",
       "<style scoped>\n",
       "    .dataframe tbody tr th:only-of-type {\n",
       "        vertical-align: middle;\n",
       "    }\n",
       "\n",
       "    .dataframe tbody tr th {\n",
       "        vertical-align: top;\n",
       "    }\n",
       "\n",
       "    .dataframe thead th {\n",
       "        text-align: right;\n",
       "    }\n",
       "</style>\n",
       "<table border=\"1\" class=\"dataframe\">\n",
       "  <thead>\n",
       "    <tr style=\"text-align: right;\">\n",
       "      <th></th>\n",
       "      <th>address</th>\n",
       "      <th>coordinates</th>\n",
       "      <th>address_det</th>\n",
       "      <th>street</th>\n",
       "      <th>district</th>\n",
       "    </tr>\n",
       "  </thead>\n",
       "  <tbody>\n",
       "    <tr>\n",
       "      <th>4181</th>\n",
       "      <td>город Москва, 87-й километр Московской Кольцев...</td>\n",
       "      <td>Not_detected</td>\n",
       "      <td>NaN</td>\n",
       "      <td>NaN</td>\n",
       "      <td>NaN</td>\n",
       "    </tr>\n",
       "    <tr>\n",
       "      <th>4217</th>\n",
       "      <td>город Москва, 82-й километр Московской Кольцев...</td>\n",
       "      <td>Not_detected</td>\n",
       "      <td>NaN</td>\n",
       "      <td>NaN</td>\n",
       "      <td>NaN</td>\n",
       "    </tr>\n",
       "    <tr>\n",
       "      <th>4254</th>\n",
       "      <td>город Москва, 87-й километр Московской Кольцев...</td>\n",
       "      <td>Not_detected</td>\n",
       "      <td>NaN</td>\n",
       "      <td>NaN</td>\n",
       "      <td>NaN</td>\n",
       "    </tr>\n",
       "    <tr>\n",
       "      <th>4394</th>\n",
       "      <td>город Москва, 104-й километр Московской Кольце...</td>\n",
       "      <td>Not_detected</td>\n",
       "      <td>NaN</td>\n",
       "      <td>NaN</td>\n",
       "      <td>NaN</td>\n",
       "    </tr>\n",
       "    <tr>\n",
       "      <th>4798</th>\n",
       "      <td>город Москва, 42-й километр Московской Кольцев...</td>\n",
       "      <td>Not_detected</td>\n",
       "      <td>NaN</td>\n",
       "      <td>NaN</td>\n",
       "      <td>NaN</td>\n",
       "    </tr>\n",
       "  </tbody>\n",
       "</table>\n",
       "</div>"
      ],
      "text/plain": [
       "                                                address   coordinates  \\\n",
       "4181  город Москва, 87-й километр Московской Кольцев...  Not_detected   \n",
       "4217  город Москва, 82-й километр Московской Кольцев...  Not_detected   \n",
       "4254  город Москва, 87-й километр Московской Кольцев...  Not_detected   \n",
       "4394  город Москва, 104-й километр Московской Кольце...  Not_detected   \n",
       "4798  город Москва, 42-й километр Московской Кольцев...  Not_detected   \n",
       "\n",
       "     address_det street district  \n",
       "4181         NaN    NaN      NaN  \n",
       "4217         NaN    NaN      NaN  \n",
       "4254         NaN    NaN      NaN  \n",
       "4394         NaN    NaN      NaN  \n",
       "4798         NaN    NaN      NaN  "
      ]
     },
     "execution_count": 106,
     "metadata": {},
     "output_type": "execute_result"
    }
   ],
   "source": [
    "address_info[address_info['coordinates'] == 'Not_detected'].head()"
   ]
  },
  {
   "cell_type": "markdown",
   "metadata": {},
   "source": [
    "Адреса, для которых не были получены координаты, все кроме одного находятся на МКАД. Рассмотрим внимательно исключение:"
   ]
  },
  {
   "cell_type": "code",
   "execution_count": 107,
   "metadata": {},
   "outputs": [
    {
     "data": {
      "text/plain": [
       "'город Москва, проспект Вернадского, дом 100, корпус ЗОНА, строение С-1'"
      ]
     },
     "execution_count": 107,
     "metadata": {},
     "output_type": "execute_result"
    }
   ],
   "source": [
    "address_info.loc[6597, :]['address']"
   ]
  },
  {
   "cell_type": "markdown",
   "metadata": {},
   "source": [
    "По данному адресу находится военная академия вооруженных сил рф и, по всей видимости, координаты военных объектов Яндексу передавать запрещено. Однако, на портале <a href='https://data.mos.ru/opendata/7710881420-kombinaty-pitaniya/row/20730998' alt='data.mos.ru'>открытых данных Москвы</a> можно найти необходимую информацию об этом адресе. Вручную сформируем набор данных для этого адреса и добавим их в датафрейм"
   ]
  },
  {
   "cell_type": "code",
   "execution_count": 108,
   "metadata": {},
   "outputs": [],
   "source": [
    "address_info.loc[6597, address_info.columns[1:]] = [\n",
    "    '37.472772 55.649538',\n",
    "    'Россия, Москва, проспект Вернадского, дом 100, корпус ЗОНА, строение С-1',\n",
    "    ['проспект Вернадского'],\n",
    "    ['Западный административный округ', 'район Тропарёво-Никулино']\n",
    "]"
   ]
  },
  {
   "cell_type": "markdown",
   "metadata": {},
   "source": [
    "Проверим результат"
   ]
  },
  {
   "cell_type": "code",
   "execution_count": 109,
   "metadata": {},
   "outputs": [
    {
     "data": {
      "text/plain": [
       "address        город Москва, проспект Вернадского, дом 100, к...\n",
       "coordinates                                  37.472772 55.649538\n",
       "address_det    Россия, Москва, проспект Вернадского, дом 100,...\n",
       "street                                    [проспект Вернадского]\n",
       "district       [Западный административный округ, район Тропар...\n",
       "Name: 6597, dtype: object"
      ]
     },
     "execution_count": 109,
     "metadata": {},
     "output_type": "execute_result"
    }
   ],
   "source": [
    "address_info.loc[6597, :]"
   ]
  },
  {
   "cell_type": "markdown",
   "metadata": {},
   "source": [
    "Для МКАДа заполним пропущенные значения болванкой \"МКАД\""
   ]
  },
  {
   "cell_type": "code",
   "execution_count": 110,
   "metadata": {},
   "outputs": [],
   "source": [
    "for index in address_info[address_info['coordinates'] == 'Not_detected'].index:\n",
    "    address_info.loc[index, address_info.columns[2:]] = [\n",
    "        'Россия, Москва, МКАД',\n",
    "        ['МКАД'],\n",
    "        ['МКАД'],\n",
    "    ]"
   ]
  },
  {
   "cell_type": "markdown",
   "metadata": {},
   "source": [
    "Осталось проверить <code>address_det</code>, <code>street</code>, <code>district</code> на <code>Not_detected</code>"
   ]
  },
  {
   "cell_type": "code",
   "execution_count": 111,
   "metadata": {},
   "outputs": [
    {
     "name": "stdout",
     "output_type": "stream",
     "text": [
      "0\n",
      "0\n",
      "0\n"
     ]
    }
   ],
   "source": [
    "for col in ['address_det', 'street', 'district']:\n",
    "    print(address_info[address_info[col] == 'Not_detected'][col].count())"
   ]
  },
  {
   "cell_type": "markdown",
   "metadata": {},
   "source": [
    "### Выводы"
   ]
  },
  {
   "cell_type": "markdown",
   "metadata": {},
   "source": [
    "В результате работы с помощью Геокодера были получены интересующие данные относительно заданных адресов Москвы. Не для всех адресов были корректно получены улицы и районы Москвы. Связано это с тем, что в изначальных данных небольшое кол-во адресов были заданы без префикса \"Москва,\" и необходимо было проверять получаемые от Геокодера данные на принадлежность городу Москва. Таких адресов действительно немного:"
   ]
  },
  {
   "cell_type": "code",
   "execution_count": 116,
   "metadata": {},
   "outputs": [
    {
     "data": {
      "text/plain": [
       "8"
      ]
     },
     "execution_count": 116,
     "metadata": {},
     "output_type": "execute_result"
    }
   ],
   "source": [
    "flag = 0\n",
    "\n",
    "def moscow_det(elem):\n",
    "    global flag\n",
    "    if not (elem.find('Россия, Москва,') >= 0):\n",
    "        flag = flag + 1\n",
    "\n",
    "address_info['address_det'].apply(moscow_det)\n",
    "\n",
    "flag"
   ]
  },
  {
   "cell_type": "markdown",
   "metadata": {},
   "source": [
    "Также для некоторых адресов в <code>street</code> и <code>district</code> можно обнаружить '[]' - это означает, что у Яндекса нет иформации об улице или районе. Это не ошибка, а особенности местности. Например в Зеленограде не существует сущности \"улица\" и адреса имеют следующий вид: \"Россия, Москва, Зеленоград, к1651\"."
   ]
  }
 ],
 "metadata": {
  "kernelspec": {
   "display_name": "Python 3",
   "language": "python",
   "name": "python3"
  },
  "language_info": {
   "codemirror_mode": {
    "name": "ipython",
    "version": 3
   },
   "file_extension": ".py",
   "mimetype": "text/x-python",
   "name": "python",
   "nbconvert_exporter": "python",
   "pygments_lexer": "ipython3",
   "version": "3.7.6"
  }
 },
 "nbformat": 4,
 "nbformat_minor": 4
}
